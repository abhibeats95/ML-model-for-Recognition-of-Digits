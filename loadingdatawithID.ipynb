{
  "nbformat": 4,
  "nbformat_minor": 0,
  "metadata": {
    "colab": {
      "name": "loadingdatawithID.ipynb",
      "provenance": [],
      "collapsed_sections": [],
      "authorship_tag": "ABX9TyMmrR6ty+45gdBbxdrqdYmb",
      "include_colab_link": true
    },
    "kernelspec": {
      "name": "python3",
      "display_name": "Python 3"
    },
    "accelerator": "GPU"
  },
  "cells": [
    {
      "cell_type": "markdown",
      "metadata": {
        "id": "view-in-github",
        "colab_type": "text"
      },
      "source": [
        "<a href=\"https://colab.research.google.com/github/abhibeats95/ML-model-for-Recognition-of-Digits/blob/main/loadingdatawithID.ipynb\" target=\"_parent\"><img src=\"https://colab.research.google.com/assets/colab-badge.svg\" alt=\"Open In Colab\"/></a>"
      ]
    },
    {
      "cell_type": "code",
      "metadata": {
        "id": "ZMjZl3OYTTru"
      },
      "source": [
        ""
      ],
      "execution_count": 12,
      "outputs": []
    },
    {
      "cell_type": "code",
      "metadata": {
        "id": "2lY8BWzfJX54",
        "colab": {
          "base_uri": "https://localhost:8080/"
        },
        "outputId": "4cb145bf-0113-4f8c-d487-a0bdd9da0ac2"
      },
      "source": [
        "!pip install -U -q PyDrive\n",
        "from pydrive.auth import GoogleAuth\n",
        "from pydrive.drive import GoogleDrive\n",
        "from google.colab import auth\n",
        "from oauth2client.client import GoogleCredentials\n",
        "\n",
        "# Authenticate and create the PyDrive client.\n",
        "# This only needs to be done once per notebook.\n",
        "auth.authenticate_user()\n",
        "gauth = GoogleAuth()\n",
        "gauth.credentials = GoogleCredentials.get_application_default()\n",
        "drive = GoogleDrive(gauth)\n",
        "\n",
        "# Download a file based on its file ID.\n",
        "#\n",
        "# A file ID looks like: laggVyWshwcyP6kEI-y_W3P8D26sz\n",
        "#imgdriveinfo = drive.ListFile({'q': \"title contains 'images.pickle'\"}).GetList()\n",
        "#clsdriveinfo= drive.ListFile({'q': \"title contains 'class.pickle'\"}).GetList()\n",
        "listed=drive.ListFile({'q': \"title contains '.pickle'\"}).GetList()\n",
        "\n",
        "\n",
        "for file in listed:\n",
        "   print('title {}, id {}'.format(file['title'], file['id']))"
      ],
      "execution_count": 13,
      "outputs": [
        {
          "output_type": "stream",
          "text": [
            "title images.pickle, id 1SRS0nw7s8RnDP4QbnWwbl88YcD4jLvfP\n",
            "title classes.pickle, id 1kZVqNEEfIsWNEV_XWrB5e0z5lbf6HAvJ\n",
            "title variables.pickle, id 1NRsuEVZ6I-hP8344UKzpQmR36Xoq55ik\n"
          ],
          "name": "stdout"
        }
      ]
    },
    {
      "cell_type": "code",
      "metadata": {
        "id": "XE3PBYY_KbDv"
      },
      "source": [
        "from googleapiclient.discovery import build\n",
        "drive_service = build('drive', 'v3')\n",
        "import io\n",
        "import pickle\n",
        "from googleapiclient.http import MediaIoBaseDownload\n",
        "\n",
        "\n",
        "pickle_list=[]\n",
        "\n",
        "\n",
        "file_id_cls,file_id_img = '1kZVqNEEfIsWNEV_XWrB5e0z5lbf6HAvJ','1SRS0nw7s8RnDP4QbnWwbl88YcD4jLvfP'\n",
        "fileid_list=[file_id_cls,file_id_img]\n",
        "for id in fileid_list:\n",
        "    request = drive_service.files().get_media(fileId=id)\n",
        "    downloaded = io.BytesIO()\n",
        "    downloader = MediaIoBaseDownload(downloaded, request)\n",
        "    done = False\n",
        "    while done is False:\n",
        "    # _ is a placeholder for a progress object that we ignore.\n",
        "    # (Our file is small, so we skip reporting progress.)\n",
        "          _, done = downloader.next_chunk()\n",
        "    downloaded.seek(0)\n",
        "    pickle_data = pickle.load(downloaded)\n",
        "    pickle_list.append(pickle_data)"
      ],
      "execution_count": 14,
      "outputs": []
    },
    {
      "cell_type": "code",
      "metadata": {
        "id": "ObsLxSmpKlIb",
        "colab": {
          "base_uri": "https://localhost:8080/"
        },
        "outputId": "cd3496f8-4fcf-40dd-832a-a60bb4ac4a32"
      },
      "source": [
        "classes=pickle_list[0]\n",
        "images=pickle_list[1]\n",
        "len(images)"
      ],
      "execution_count": 15,
      "outputs": [
        {
          "output_type": "execute_result",
          "data": {
            "text/plain": [
              "10160"
            ]
          },
          "metadata": {
            "tags": []
          },
          "execution_count": 15
        }
      ]
    },
    {
      "cell_type": "code",
      "metadata": {
        "id": "OX989VkeTVYc"
      },
      "source": [
        "import os\n",
        "import numpy as np\n",
        "import cv2\n",
        "from sklearn.model_selection import train_test_split\n",
        "import pickle\n",
        "import matplotlib.pyplot as plt\n",
        "from keras.preprocessing.image import ImageDataGenerator\n",
        "from keras.utils.np_utils import to_categorical\n",
        "from keras.models import Sequential\n",
        "from keras.layers import Dense\n",
        "from keras.optimizers import Adam\n",
        "from keras.layers import Dropout,Flatten\n",
        "from keras.layers.convolutional import Conv2D, MaxPooling2D\n",
        "\n"
      ],
      "execution_count": 16,
      "outputs": []
    },
    {
      "cell_type": "markdown",
      "metadata": {
        "id": "pSMSdvhu_-kh"
      },
      "source": [
        "**PARAMETERS**\n"
      ]
    },
    {
      "cell_type": "code",
      "metadata": {
        "id": "MJGcBpczTZMD"
      },
      "source": [
        "############parameters##########\n",
        "test_ratio=0.2\n",
        "val_ratio=0.2\n",
        "img_dim=(32,32,3)\n",
        "#images=[]\n",
        "#classes=[]\n",
        "batch_size_val=50\n",
        "epochs_val=10\n",
        "steps_per_epoch_val=2000\n",
        "###########parameters############\n"
      ],
      "execution_count": 17,
      "outputs": []
    },
    {
      "cell_type": "markdown",
      "metadata": {
        "id": "fnbMKl6MAVTX"
      },
      "source": [
        "**Splitting the data**"
      ]
    },
    {
      "cell_type": "code",
      "metadata": {
        "id": "icFaVDUdKWWc",
        "colab": {
          "base_uri": "https://localhost:8080/"
        },
        "outputId": "e776a5b8-4523-4082-9cc5-c10380045af5"
      },
      "source": [
        "images=np.array(images)\n",
        "classes=np.array (classes)\n",
        "print(images.shape)\n",
        "\n",
        "###splitting the data##########\n",
        "x_train,x_test,y_train,y_test = train_test_split(images,classes,test_size=test_ratio)\n",
        "x_train,x_val,y_train,y_val=train_test_split(x_train,y_train,test_size=val_ratio)\n",
        "print(x_train.shape)\n",
        "print(x_test.shape)\n",
        "print(x_val.shape)"
      ],
      "execution_count": 18,
      "outputs": [
        {
          "output_type": "stream",
          "text": [
            "(10160, 32, 32, 3)\n",
            "(6502, 32, 32, 3)\n",
            "(2032, 32, 32, 3)\n",
            "(1626, 32, 32, 3)\n"
          ],
          "name": "stdout"
        }
      ]
    },
    {
      "cell_type": "code",
      "metadata": {
        "id": "xb4kWoArRaxt",
        "colab": {
          "base_uri": "https://localhost:8080/"
        },
        "outputId": "4518794a-6505-4084-9130-aba296bdd692"
      },
      "source": [
        "print(len(np.where(y_train=='0')[0]))\n",
        "print(len(np.where(y_test=='0')[0]))\n",
        "print(len(np.where(y_val=='0')[0]))"
      ],
      "execution_count": 19,
      "outputs": [
        {
          "output_type": "stream",
          "text": [
            "663\n",
            "205\n",
            "148\n"
          ],
          "name": "stdout"
        }
      ]
    },
    {
      "cell_type": "markdown",
      "metadata": {
        "id": "iY0GAC_YAd4P"
      },
      "source": [
        "**Ploating Distribution Chart of No of Images for Each Class**"
      ]
    },
    {
      "cell_type": "code",
      "metadata": {
        "id": "YgOG_CWgM1oB",
        "colab": {
          "base_uri": "https://localhost:8080/",
          "height": 385
        },
        "outputId": "f8048f31-ace2-42e3-8294-53f27af35afa"
      },
      "source": [
        "###plotting the barchart for the distribution of images for each classes######\n",
        "no_of_samples=[]\n",
        "no_of_classes=10\n",
        "for x in range(0,no_of_classes):\n",
        "    no_of_samples.append(len(np.where(y_train==str(x))[0]))\n",
        "print(no_of_samples)\n",
        "\n",
        "plt.figure(figsize=(10,5))\n",
        "plt.bar(range(0,no_of_classes),no_of_samples)\n",
        "plt.title(\"No of images for each class\")\n",
        "plt.xlabel(\"no_of_classes\")\n",
        "plt.ylabel(\"no_of_samples\")"
      ],
      "execution_count": 20,
      "outputs": [
        {
          "output_type": "stream",
          "text": [
            "[663, 626, 672, 649, 664, 631, 641, 675, 654, 627]\n"
          ],
          "name": "stdout"
        },
        {
          "output_type": "execute_result",
          "data": {
            "text/plain": [
              "Text(0, 0.5, 'no_of_samples')"
            ]
          },
          "metadata": {
            "tags": []
          },
          "execution_count": 20
        },
        {
          "output_type": "display_data",
          "data": {
            "image/png": "[encoded data removed]",
            "text/plain": [
              "<Figure size 720x360 with 1 Axes>"
            ]
          },
          "metadata": {
            "tags": [],
            "needs_background": "light"
          }
        }
      ]
    },
    {
      "cell_type": "markdown",
      "metadata": {
        "id": "B9w1pA8hAqCH"
      },
      "source": [
        "**Data Preprocessing**"
      ]
    },
    {
      "cell_type": "code",
      "metadata": {
        "id": "bI_RQgDZH5fU"
      },
      "source": [
        "#####data preprocessing #########\n",
        "def preprocessing(img):\n",
        "  img=cv2.cvtColor(img,cv2.COLOR_BGR2GRAY)\n",
        "  img=cv2.equalizeHist(img)\n",
        "  img=img/255\n",
        "  return img"
      ],
      "execution_count": 21,
      "outputs": []
    },
    {
      "cell_type": "code",
      "metadata": {
        "id": "jclf9zyTInMi"
      },
      "source": [
        "x_train=np.array(list(map(preprocessing,x_train)))\n",
        "x_test= np.array(list(map(preprocessing,x_test)))\n",
        "x_val= np.array(list(map(preprocessing,x_val)))"
      ],
      "execution_count": 22,
      "outputs": []
    },
    {
      "cell_type": "code",
      "metadata": {
        "id": "5spViVj8Jl9b",
        "colab": {
          "base_uri": "https://localhost:8080/"
        },
        "outputId": "8f5fd136-2d90-4fa0-805b-b254d4e21489"
      },
      "source": [
        "x_test.shape"
      ],
      "execution_count": 23,
      "outputs": [
        {
          "output_type": "execute_result",
          "data": {
            "text/plain": [
              "(2032, 32, 32)"
            ]
          },
          "metadata": {
            "tags": []
          },
          "execution_count": 23
        }
      ]
    },
    {
      "cell_type": "markdown",
      "metadata": {
        "id": "UM_mp68wA1Fu"
      },
      "source": [
        "**Reshape the images for Training**"
      ]
    },
    {
      "cell_type": "code",
      "metadata": {
        "id": "G1THl75ylI4T"
      },
      "source": [
        "########Reshape the images###########\n",
        "x_train=x_train.reshape(x_train.shape[0],x_train.shape[1],x_train.shape[2],1)\n",
        "x_test= x_test.reshape(x_test.shape[0],x_test.shape[1],x_test.shape[2],1)\n",
        "x_val=x_val.reshape(x_val.shape[0],x_val.shape[1],x_val.shape[2],1)"
      ],
      "execution_count": 24,
      "outputs": []
    },
    {
      "cell_type": "markdown",
      "metadata": {
        "id": "gpeOC_4fA4y2"
      },
      "source": [
        "**Data Agumentation Process**"
      ]
    },
    {
      "cell_type": "code",
      "metadata": {
        "id": "OtkXbvuSNc04"
      },
      "source": [
        "###Data Augumentation#########\n",
        "dataGen=ImageDataGenerator(width_shift_range=0.1,\n",
        "                   height_shift_range=0.1,\n",
        "                   zoom_range=0.2,\n",
        "                   shear_range=0.1,\n",
        "                   rotation_range=10)\n",
        "dataGen.fit(x_train)"
      ],
      "execution_count": 25,
      "outputs": []
    },
    {
      "cell_type": "code",
      "metadata": {
        "id": "FudpurrkQMLM",
        "colab": {
          "base_uri": "https://localhost:8080/"
        },
        "outputId": "028f5559-af83-4537-ab99-2580f322882f"
      },
      "source": [
        "x_train.shape"
      ],
      "execution_count": 26,
      "outputs": [
        {
          "output_type": "execute_result",
          "data": {
            "text/plain": [
              "(6502, 32, 32, 1)"
            ]
          },
          "metadata": {
            "tags": []
          },
          "execution_count": 26
        }
      ]
    },
    {
      "cell_type": "code",
      "metadata": {
        "id": "jDq-F6YkpSHQ",
        "colab": {
          "base_uri": "https://localhost:8080/"
        },
        "outputId": "509646b1-a995-4ace-dbbb-cc34aabbfa8e"
      },
      "source": [
        "no_of_classes"
      ],
      "execution_count": 27,
      "outputs": [
        {
          "output_type": "execute_result",
          "data": {
            "text/plain": [
              "10"
            ]
          },
          "metadata": {
            "tags": []
          },
          "execution_count": 27
        }
      ]
    },
    {
      "cell_type": "markdown",
      "metadata": {
        "id": "FWLvdXVTA-Ue"
      },
      "source": [
        "**ONE HOT ENCODINGS OF LABELS MATRICS**"
      ]
    },
    {
      "cell_type": "code",
      "metadata": {
        "id": "kcEwJvkVJzCu"
      },
      "source": [
        "##########ONE HOT ENCODINGS OF MATRIX#############\n",
        "y_train=to_categorical(y_train,no_of_classes)\n",
        "y_test=to_categorical(y_test,no_of_classes)\n",
        "y_val=to_categorical(y_val,no_of_classes)"
      ],
      "execution_count": 28,
      "outputs": []
    },
    {
      "cell_type": "markdown",
      "metadata": {
        "id": "-XWchfaNBE8H"
      },
      "source": [
        "**CREATING MODEL**"
      ]
    },
    {
      "cell_type": "code",
      "metadata": {
        "id": "wtDlckvUpF43"
      },
      "source": [
        "##########Creating the model###########\n",
        "def Model():\n",
        "  no_of_filters=60\n",
        "  size_of_filter1=(5,5)\n",
        "  size_of_filter2=(3,3)\n",
        "  size_of_pool=(2,2)\n",
        "  no_of_nodes=500\n",
        "\n",
        "  model=Sequential()\n",
        "  model.add((Conv2D(no_of_filters,size_of_filter1,input_shape=(img_dim[0],img_dim[1],1),activation='relu')))\n",
        "  model.add((Conv2D(no_of_filters,size_of_filter2,activation='relu')))\n",
        "  model.add((MaxPooling2D(pool_size=size_of_pool)))\n",
        "  model.add((Conv2D(no_of_filters//2,size_of_filter2,activation='relu')))\n",
        "  model.add((Conv2D(no_of_filters//2,size_of_filter2,activation='relu')))\n",
        "  model.add((MaxPooling2D(pool_size=size_of_pool)))\n",
        "  model.add(Dropout(0.5))\n",
        "\n",
        "  model.add(Flatten())\n",
        "  model.add(Dense(no_of_nodes,activation='relu'))\n",
        "  model.add(Dropout(0.5))\n",
        "  model.add(Dense(no_of_classes,activation='softmax'))\n",
        "\n",
        "  model.compile(Adam(lr=0.001),loss='categorical_crossentropy',metrics=['accuracy'])\n",
        "  return model\n"
      ],
      "execution_count": 29,
      "outputs": []
    },
    {
      "cell_type": "code",
      "metadata": {
        "id": "Jh4uH7bJr3Cx",
        "colab": {
          "base_uri": "https://localhost:8080/"
        },
        "outputId": "bc6a2e6b-408e-4514-b9c1-6e7a8d7cb687"
      },
      "source": [
        "model=Model()\n",
        "print(model.summary())"
      ],
      "execution_count": 30,
      "outputs": [
        {
          "output_type": "stream",
          "text": [
            "Model: \"sequential\"\n",
            "_________________________________________________________________\n",
            "Layer (type)                 Output Shape              Param #   \n",
            "=================================================================\n",
            "conv2d (Conv2D)              (None, 28, 28, 60)        1560      \n",
            "_________________________________________________________________\n",
            "conv2d_1 (Conv2D)            (None, 26, 26, 60)        32460     \n",
            "_________________________________________________________________\n",
            "max_pooling2d (MaxPooling2D) (None, 13, 13, 60)        0         \n",
            "_________________________________________________________________\n",
            "conv2d_2 (Conv2D)            (None, 11, 11, 30)        16230     \n",
            "_________________________________________________________________\n",
            "conv2d_3 (Conv2D)            (None, 9, 9, 30)          8130      \n",
            "_________________________________________________________________\n",
            "max_pooling2d_1 (MaxPooling2 (None, 4, 4, 30)          0         \n",
            "_________________________________________________________________\n",
            "dropout (Dropout)            (None, 4, 4, 30)          0         \n",
            "_________________________________________________________________\n",
            "flatten (Flatten)            (None, 480)               0         \n",
            "_________________________________________________________________\n",
            "dense (Dense)                (None, 500)               240500    \n",
            "_________________________________________________________________\n",
            "dropout_1 (Dropout)          (None, 500)               0         \n",
            "_________________________________________________________________\n",
            "dense_1 (Dense)              (None, 10)                5010      \n",
            "=================================================================\n",
            "Total params: 303,890\n",
            "Trainable params: 303,890\n",
            "Non-trainable params: 0\n",
            "_________________________________________________________________\n",
            "None\n"
          ],
          "name": "stdout"
        }
      ]
    },
    {
      "cell_type": "code",
      "metadata": {
        "id": "FY8PHpxnLc8t",
        "colab": {
          "base_uri": "https://localhost:8080/"
        },
        "outputId": "a9456df2-b9bb-4d76-bb20-6864a5939370"
      },
      "source": [
        "y_train.shape"
      ],
      "execution_count": 31,
      "outputs": [
        {
          "output_type": "execute_result",
          "data": {
            "text/plain": [
              "(6502, 10)"
            ]
          },
          "metadata": {
            "tags": []
          },
          "execution_count": 31
        }
      ]
    },
    {
      "cell_type": "markdown",
      "metadata": {
        "id": "p-92lghOBLC9"
      },
      "source": [
        "**Starting with Training**"
      ]
    },
    {
      "cell_type": "code",
      "metadata": {
        "id": "8cPExeSN-vTa",
        "colab": {
          "base_uri": "https://localhost:8080/"
        },
        "outputId": "5e366af9-2ccc-4b32-e3aa-84d6a16c9c06"
      },
      "source": [
        "history = model.fit_generator(dataGen.flow(x_train,y_train,\n",
        "                                 batch_size=50),\n",
        "                                 steps_per_epoch=131,\n",
        "                                 epochs=100,\n",
        "                                 validation_data=(x_val,y_val),\n",
        "                                 shuffle=1)"
      ],
      "execution_count": 32,
      "outputs": [
        {
          "output_type": "stream",
          "text": [
            "WARNING:tensorflow:From <ipython-input-32-1335f04a6faf>:6: Model.fit_generator (from tensorflow.python.keras.engine.training) is deprecated and will be removed in a future version.\n",
            "Instructions for updating:\n",
            "Please use Model.fit, which supports generators.\n",
            "Epoch 1/100\n",
            "131/131 [==============================] - 3s 22ms/step - loss: 1.4020 - accuracy: 0.5055 - val_loss: 0.1447 - val_accuracy: 0.9545\n",
            "Epoch 2/100\n",
            "131/131 [==============================] - 3s 19ms/step - loss: 0.4644 - accuracy: 0.8470 - val_loss: 0.0801 - val_accuracy: 0.9723\n",
            "Epoch 3/100\n",
            "131/131 [==============================] - 3s 19ms/step - loss: 0.3106 - accuracy: 0.9013 - val_loss: 0.0705 - val_accuracy: 0.9785\n",
            "Epoch 4/100\n",
            "131/131 [==============================] - 3s 20ms/step - loss: 0.2525 - accuracy: 0.9171 - val_loss: 0.0548 - val_accuracy: 0.9815\n",
            "Epoch 5/100\n",
            "131/131 [==============================] - 3s 20ms/step - loss: 0.2068 - accuracy: 0.9306 - val_loss: 0.0492 - val_accuracy: 0.9859\n",
            "Epoch 6/100\n",
            "131/131 [==============================] - 3s 20ms/step - loss: 0.1884 - accuracy: 0.9406 - val_loss: 0.0466 - val_accuracy: 0.9871\n",
            "Epoch 7/100\n",
            "131/131 [==============================] - 3s 19ms/step - loss: 0.1876 - accuracy: 0.9419 - val_loss: 0.0398 - val_accuracy: 0.9877\n",
            "Epoch 8/100\n",
            "131/131 [==============================] - 3s 20ms/step - loss: 0.1518 - accuracy: 0.9525 - val_loss: 0.0371 - val_accuracy: 0.9852\n",
            "Epoch 9/100\n",
            "131/131 [==============================] - 3s 19ms/step - loss: 0.1313 - accuracy: 0.9571 - val_loss: 0.0285 - val_accuracy: 0.9908\n",
            "Epoch 10/100\n",
            "131/131 [==============================] - 3s 20ms/step - loss: 0.1245 - accuracy: 0.9597 - val_loss: 0.0342 - val_accuracy: 0.9889\n",
            "Epoch 11/100\n",
            "131/131 [==============================] - 3s 20ms/step - loss: 0.1031 - accuracy: 0.9668 - val_loss: 0.0294 - val_accuracy: 0.9908\n",
            "Epoch 12/100\n",
            "131/131 [==============================] - 3s 19ms/step - loss: 0.1115 - accuracy: 0.9645 - val_loss: 0.0252 - val_accuracy: 0.9932\n",
            "Epoch 13/100\n",
            "131/131 [==============================] - 3s 20ms/step - loss: 0.1083 - accuracy: 0.9662 - val_loss: 0.0250 - val_accuracy: 0.9902\n",
            "Epoch 14/100\n",
            "131/131 [==============================] - 3s 20ms/step - loss: 0.1171 - accuracy: 0.9635 - val_loss: 0.0344 - val_accuracy: 0.9883\n",
            "Epoch 15/100\n",
            "131/131 [==============================] - 3s 19ms/step - loss: 0.1108 - accuracy: 0.9662 - val_loss: 0.0261 - val_accuracy: 0.9902\n",
            "Epoch 16/100\n",
            "131/131 [==============================] - 3s 20ms/step - loss: 0.0817 - accuracy: 0.9731 - val_loss: 0.0200 - val_accuracy: 0.9914\n",
            "Epoch 17/100\n",
            "131/131 [==============================] - 3s 20ms/step - loss: 0.0880 - accuracy: 0.9717 - val_loss: 0.0182 - val_accuracy: 0.9938\n",
            "Epoch 18/100\n",
            "131/131 [==============================] - 3s 20ms/step - loss: 0.0758 - accuracy: 0.9755 - val_loss: 0.0214 - val_accuracy: 0.9914\n",
            "Epoch 19/100\n",
            "131/131 [==============================] - 3s 20ms/step - loss: 0.0764 - accuracy: 0.9754 - val_loss: 0.0201 - val_accuracy: 0.9932\n",
            "Epoch 20/100\n",
            "131/131 [==============================] - 3s 19ms/step - loss: 0.0729 - accuracy: 0.9783 - val_loss: 0.0173 - val_accuracy: 0.9926\n",
            "Epoch 21/100\n",
            "131/131 [==============================] - 3s 20ms/step - loss: 0.0744 - accuracy: 0.9759 - val_loss: 0.0196 - val_accuracy: 0.9914\n",
            "Epoch 22/100\n",
            "131/131 [==============================] - 3s 20ms/step - loss: 0.0772 - accuracy: 0.9774 - val_loss: 0.0197 - val_accuracy: 0.9938\n",
            "Epoch 23/100\n",
            "131/131 [==============================] - 3s 20ms/step - loss: 0.0741 - accuracy: 0.9762 - val_loss: 0.0185 - val_accuracy: 0.9914\n",
            "Epoch 24/100\n",
            "131/131 [==============================] - 3s 20ms/step - loss: 0.0633 - accuracy: 0.9800 - val_loss: 0.0184 - val_accuracy: 0.9914\n",
            "Epoch 25/100\n",
            "131/131 [==============================] - 3s 20ms/step - loss: 0.0650 - accuracy: 0.9774 - val_loss: 0.0208 - val_accuracy: 0.9926\n",
            "Epoch 26/100\n",
            "131/131 [==============================] - 3s 19ms/step - loss: 0.0707 - accuracy: 0.9780 - val_loss: 0.0159 - val_accuracy: 0.9951\n",
            "Epoch 27/100\n",
            "131/131 [==============================] - 3s 19ms/step - loss: 0.0694 - accuracy: 0.9775 - val_loss: 0.0173 - val_accuracy: 0.9945\n",
            "Epoch 28/100\n",
            "131/131 [==============================] - 3s 20ms/step - loss: 0.0572 - accuracy: 0.9835 - val_loss: 0.0149 - val_accuracy: 0.9951\n",
            "Epoch 29/100\n",
            "131/131 [==============================] - 3s 20ms/step - loss: 0.0617 - accuracy: 0.9817 - val_loss: 0.0302 - val_accuracy: 0.9895\n",
            "Epoch 30/100\n",
            "131/131 [==============================] - 3s 20ms/step - loss: 0.0637 - accuracy: 0.9805 - val_loss: 0.0203 - val_accuracy: 0.9902\n",
            "Epoch 31/100\n",
            "131/131 [==============================] - 3s 20ms/step - loss: 0.0581 - accuracy: 0.9814 - val_loss: 0.0237 - val_accuracy: 0.9920\n",
            "Epoch 32/100\n",
            "131/131 [==============================] - 3s 20ms/step - loss: 0.0578 - accuracy: 0.9831 - val_loss: 0.0159 - val_accuracy: 0.9957\n",
            "Epoch 33/100\n",
            "131/131 [==============================] - 3s 20ms/step - loss: 0.0551 - accuracy: 0.9826 - val_loss: 0.0165 - val_accuracy: 0.9932\n",
            "Epoch 34/100\n",
            "131/131 [==============================] - 3s 20ms/step - loss: 0.0519 - accuracy: 0.9837 - val_loss: 0.0185 - val_accuracy: 0.9945\n",
            "Epoch 35/100\n",
            "131/131 [==============================] - 3s 20ms/step - loss: 0.0499 - accuracy: 0.9848 - val_loss: 0.0155 - val_accuracy: 0.9926\n",
            "Epoch 36/100\n",
            "131/131 [==============================] - 3s 20ms/step - loss: 0.0586 - accuracy: 0.9819 - val_loss: 0.0204 - val_accuracy: 0.9920\n",
            "Epoch 37/100\n",
            "131/131 [==============================] - 3s 20ms/step - loss: 0.0495 - accuracy: 0.9839 - val_loss: 0.0203 - val_accuracy: 0.9914\n",
            "Epoch 38/100\n",
            "131/131 [==============================] - 3s 20ms/step - loss: 0.0509 - accuracy: 0.9843 - val_loss: 0.0224 - val_accuracy: 0.9932\n",
            "Epoch 39/100\n",
            "131/131 [==============================] - 3s 19ms/step - loss: 0.0495 - accuracy: 0.9843 - val_loss: 0.0178 - val_accuracy: 0.9932\n",
            "Epoch 40/100\n",
            "131/131 [==============================] - 3s 20ms/step - loss: 0.0505 - accuracy: 0.9835 - val_loss: 0.0325 - val_accuracy: 0.9914\n",
            "Epoch 41/100\n",
            "131/131 [==============================] - 3s 20ms/step - loss: 0.0495 - accuracy: 0.9846 - val_loss: 0.0217 - val_accuracy: 0.9920\n",
            "Epoch 42/100\n",
            "131/131 [==============================] - 3s 20ms/step - loss: 0.0481 - accuracy: 0.9839 - val_loss: 0.0163 - val_accuracy: 0.9926\n",
            "Epoch 43/100\n",
            "131/131 [==============================] - 3s 20ms/step - loss: 0.0535 - accuracy: 0.9845 - val_loss: 0.0114 - val_accuracy: 0.9982\n",
            "Epoch 44/100\n",
            "131/131 [==============================] - 3s 20ms/step - loss: 0.0543 - accuracy: 0.9825 - val_loss: 0.0174 - val_accuracy: 0.9926\n",
            "Epoch 45/100\n",
            "131/131 [==============================] - 3s 20ms/step - loss: 0.0492 - accuracy: 0.9862 - val_loss: 0.0203 - val_accuracy: 0.9914\n",
            "Epoch 46/100\n",
            "131/131 [==============================] - 3s 19ms/step - loss: 0.0447 - accuracy: 0.9871 - val_loss: 0.0159 - val_accuracy: 0.9945\n",
            "Epoch 47/100\n",
            "131/131 [==============================] - 3s 20ms/step - loss: 0.0546 - accuracy: 0.9820 - val_loss: 0.0157 - val_accuracy: 0.9963\n",
            "Epoch 48/100\n",
            "131/131 [==============================] - 3s 20ms/step - loss: 0.0440 - accuracy: 0.9862 - val_loss: 0.0126 - val_accuracy: 0.9963\n",
            "Epoch 49/100\n",
            "131/131 [==============================] - 3s 20ms/step - loss: 0.0477 - accuracy: 0.9848 - val_loss: 0.0217 - val_accuracy: 0.9914\n",
            "Epoch 50/100\n",
            "131/131 [==============================] - 3s 20ms/step - loss: 0.0380 - accuracy: 0.9886 - val_loss: 0.0228 - val_accuracy: 0.9920\n",
            "Epoch 51/100\n",
            "131/131 [==============================] - 3s 20ms/step - loss: 0.0419 - accuracy: 0.9883 - val_loss: 0.0235 - val_accuracy: 0.9938\n",
            "Epoch 52/100\n",
            "131/131 [==============================] - 3s 20ms/step - loss: 0.0477 - accuracy: 0.9859 - val_loss: 0.0170 - val_accuracy: 0.9938\n",
            "Epoch 53/100\n",
            "131/131 [==============================] - 3s 20ms/step - loss: 0.0379 - accuracy: 0.9874 - val_loss: 0.0116 - val_accuracy: 0.9957\n",
            "Epoch 54/100\n",
            "131/131 [==============================] - 3s 20ms/step - loss: 0.0352 - accuracy: 0.9894 - val_loss: 0.0235 - val_accuracy: 0.9920\n",
            "Epoch 55/100\n",
            "131/131 [==============================] - 3s 20ms/step - loss: 0.0402 - accuracy: 0.9871 - val_loss: 0.0230 - val_accuracy: 0.9926\n",
            "Epoch 56/100\n",
            "131/131 [==============================] - 3s 20ms/step - loss: 0.0429 - accuracy: 0.9863 - val_loss: 0.0181 - val_accuracy: 0.9938\n",
            "Epoch 57/100\n",
            "131/131 [==============================] - 3s 20ms/step - loss: 0.0417 - accuracy: 0.9880 - val_loss: 0.0244 - val_accuracy: 0.9902\n",
            "Epoch 58/100\n",
            "131/131 [==============================] - 3s 20ms/step - loss: 0.0495 - accuracy: 0.9834 - val_loss: 0.0109 - val_accuracy: 0.9963\n",
            "Epoch 59/100\n",
            "131/131 [==============================] - 3s 20ms/step - loss: 0.0417 - accuracy: 0.9868 - val_loss: 0.0131 - val_accuracy: 0.9969\n",
            "Epoch 60/100\n",
            "131/131 [==============================] - 3s 20ms/step - loss: 0.0455 - accuracy: 0.9865 - val_loss: 0.0192 - val_accuracy: 0.9938\n",
            "Epoch 61/100\n",
            "131/131 [==============================] - 3s 20ms/step - loss: 0.0362 - accuracy: 0.9889 - val_loss: 0.0133 - val_accuracy: 0.9957\n",
            "Epoch 62/100\n",
            "131/131 [==============================] - 3s 20ms/step - loss: 0.0476 - accuracy: 0.9862 - val_loss: 0.0215 - val_accuracy: 0.9926\n",
            "Epoch 63/100\n",
            "131/131 [==============================] - 3s 20ms/step - loss: 0.0363 - accuracy: 0.9888 - val_loss: 0.0114 - val_accuracy: 0.9945\n",
            "Epoch 64/100\n",
            "131/131 [==============================] - 3s 20ms/step - loss: 0.0272 - accuracy: 0.9915 - val_loss: 0.0126 - val_accuracy: 0.9963\n",
            "Epoch 65/100\n",
            "131/131 [==============================] - 3s 20ms/step - loss: 0.0390 - accuracy: 0.9885 - val_loss: 0.0172 - val_accuracy: 0.9938\n",
            "Epoch 66/100\n",
            "131/131 [==============================] - 3s 20ms/step - loss: 0.0369 - accuracy: 0.9891 - val_loss: 0.0172 - val_accuracy: 0.9938\n",
            "Epoch 67/100\n",
            "131/131 [==============================] - 3s 20ms/step - loss: 0.0412 - accuracy: 0.9874 - val_loss: 0.0139 - val_accuracy: 0.9951\n",
            "Epoch 68/100\n",
            "131/131 [==============================] - 3s 20ms/step - loss: 0.0280 - accuracy: 0.9903 - val_loss: 0.0346 - val_accuracy: 0.9889\n",
            "Epoch 69/100\n",
            "131/131 [==============================] - 3s 20ms/step - loss: 0.0358 - accuracy: 0.9894 - val_loss: 0.0115 - val_accuracy: 0.9951\n",
            "Epoch 70/100\n",
            "131/131 [==============================] - 3s 20ms/step - loss: 0.0262 - accuracy: 0.9909 - val_loss: 0.0157 - val_accuracy: 0.9926\n",
            "Epoch 71/100\n",
            "131/131 [==============================] - 3s 20ms/step - loss: 0.0421 - accuracy: 0.9857 - val_loss: 0.0146 - val_accuracy: 0.9938\n",
            "Epoch 72/100\n",
            "131/131 [==============================] - 3s 20ms/step - loss: 0.0406 - accuracy: 0.9865 - val_loss: 0.0144 - val_accuracy: 0.9945\n",
            "Epoch 73/100\n",
            "131/131 [==============================] - 3s 20ms/step - loss: 0.0386 - accuracy: 0.9877 - val_loss: 0.0252 - val_accuracy: 0.9920\n",
            "Epoch 74/100\n",
            "131/131 [==============================] - 3s 20ms/step - loss: 0.0298 - accuracy: 0.9905 - val_loss: 0.0117 - val_accuracy: 0.9951\n",
            "Epoch 75/100\n",
            "131/131 [==============================] - 3s 20ms/step - loss: 0.0358 - accuracy: 0.9888 - val_loss: 0.0103 - val_accuracy: 0.9945\n",
            "Epoch 76/100\n",
            "131/131 [==============================] - 3s 19ms/step - loss: 0.0350 - accuracy: 0.9900 - val_loss: 0.0102 - val_accuracy: 0.9975\n",
            "Epoch 77/100\n",
            "131/131 [==============================] - 3s 20ms/step - loss: 0.0340 - accuracy: 0.9898 - val_loss: 0.0093 - val_accuracy: 0.9963\n",
            "Epoch 78/100\n",
            "131/131 [==============================] - 3s 20ms/step - loss: 0.0269 - accuracy: 0.9906 - val_loss: 0.0136 - val_accuracy: 0.9945\n",
            "Epoch 79/100\n",
            "131/131 [==============================] - 3s 20ms/step - loss: 0.0298 - accuracy: 0.9906 - val_loss: 0.0150 - val_accuracy: 0.9932\n",
            "Epoch 80/100\n",
            "131/131 [==============================] - 3s 20ms/step - loss: 0.0327 - accuracy: 0.9886 - val_loss: 0.0139 - val_accuracy: 0.9951\n",
            "Epoch 81/100\n",
            "131/131 [==============================] - 3s 20ms/step - loss: 0.0358 - accuracy: 0.9886 - val_loss: 0.0162 - val_accuracy: 0.9951\n",
            "Epoch 82/100\n",
            "131/131 [==============================] - 3s 20ms/step - loss: 0.0400 - accuracy: 0.9875 - val_loss: 0.0118 - val_accuracy: 0.9969\n",
            "Epoch 83/100\n",
            "131/131 [==============================] - 3s 20ms/step - loss: 0.0293 - accuracy: 0.9895 - val_loss: 0.0126 - val_accuracy: 0.9938\n",
            "Epoch 84/100\n",
            "131/131 [==============================] - 3s 20ms/step - loss: 0.0285 - accuracy: 0.9902 - val_loss: 0.0131 - val_accuracy: 0.9951\n",
            "Epoch 85/100\n",
            "131/131 [==============================] - 3s 20ms/step - loss: 0.0321 - accuracy: 0.9892 - val_loss: 0.0109 - val_accuracy: 0.9969\n",
            "Epoch 86/100\n",
            "131/131 [==============================] - 3s 20ms/step - loss: 0.0301 - accuracy: 0.9895 - val_loss: 0.0101 - val_accuracy: 0.9951\n",
            "Epoch 87/100\n",
            "131/131 [==============================] - 3s 20ms/step - loss: 0.0633 - accuracy: 0.9823 - val_loss: 0.0294 - val_accuracy: 0.9883\n",
            "Epoch 88/100\n",
            "131/131 [==============================] - 3s 20ms/step - loss: 0.0455 - accuracy: 0.9851 - val_loss: 0.0219 - val_accuracy: 0.9908\n",
            "Epoch 89/100\n",
            "131/131 [==============================] - 3s 20ms/step - loss: 0.0420 - accuracy: 0.9860 - val_loss: 0.0134 - val_accuracy: 0.9957\n",
            "Epoch 90/100\n",
            "131/131 [==============================] - 3s 20ms/step - loss: 0.0326 - accuracy: 0.9895 - val_loss: 0.0190 - val_accuracy: 0.9945\n",
            "Epoch 91/100\n",
            "131/131 [==============================] - 3s 20ms/step - loss: 0.0218 - accuracy: 0.9938 - val_loss: 0.0080 - val_accuracy: 0.9969\n",
            "Epoch 92/100\n",
            "131/131 [==============================] - 3s 20ms/step - loss: 0.0274 - accuracy: 0.9908 - val_loss: 0.0167 - val_accuracy: 0.9932\n",
            "Epoch 93/100\n",
            "131/131 [==============================] - 3s 20ms/step - loss: 0.0305 - accuracy: 0.9908 - val_loss: 0.0101 - val_accuracy: 0.9957\n",
            "Epoch 94/100\n",
            "131/131 [==============================] - 3s 20ms/step - loss: 0.0276 - accuracy: 0.9900 - val_loss: 0.0133 - val_accuracy: 0.9951\n",
            "Epoch 95/100\n",
            "131/131 [==============================] - 3s 20ms/step - loss: 0.0274 - accuracy: 0.9905 - val_loss: 0.0157 - val_accuracy: 0.9951\n",
            "Epoch 96/100\n",
            "131/131 [==============================] - 3s 20ms/step - loss: 0.0278 - accuracy: 0.9922 - val_loss: 0.0111 - val_accuracy: 0.9945\n",
            "Epoch 97/100\n",
            "131/131 [==============================] - 3s 20ms/step - loss: 0.0277 - accuracy: 0.9923 - val_loss: 0.0135 - val_accuracy: 0.9957\n",
            "Epoch 98/100\n",
            "131/131 [==============================] - 3s 20ms/step - loss: 0.0311 - accuracy: 0.9897 - val_loss: 0.0134 - val_accuracy: 0.9945\n",
            "Epoch 99/100\n",
            "131/131 [==============================] - 3s 20ms/step - loss: 0.0379 - accuracy: 0.9868 - val_loss: 0.0085 - val_accuracy: 0.9969\n",
            "Epoch 100/100\n",
            "131/131 [==============================] - 3s 20ms/step - loss: 0.0303 - accuracy: 0.9909 - val_loss: 0.0105 - val_accuracy: 0.9969\n"
          ],
          "name": "stdout"
        }
      ]
    },
    {
      "cell_type": "markdown",
      "metadata": {
        "id": "UUTqKU_kCZY9"
      },
      "source": [
        "**Plotting the results**"
      ]
    },
    {
      "cell_type": "code",
      "metadata": {
        "id": "D94XAHxzBVfG",
        "colab": {
          "base_uri": "https://localhost:8080/",
          "height": 312
        },
        "outputId": "3b2a16e7-b834-4b62-a47f-b06abd7fa996"
      },
      "source": [
        "plt.figure(1)\n",
        "plt.plot(history.history['loss'])\n",
        "plt.plot(history.history['val_loss'])\n",
        "plt.legend(['training','validation'])\n",
        "plt.title('loss Insights')\n",
        "plt.xlabel('epoch')\n",
        "\n",
        "\n",
        "\n"
      ],
      "execution_count": 33,
      "outputs": [
        {
          "output_type": "execute_result",
          "data": {
            "text/plain": [
              "Text(0.5, 0, 'epoch')"
            ]
          },
          "metadata": {
            "tags": []
          },
          "execution_count": 33
        },
        {
          "output_type": "display_data",
          "data": {
            "image/png": "[encoded data removed]",
            "text/plain": [
              "<Figure size 432x288 with 1 Axes>"
            ]
          },
          "metadata": {
            "tags": [],
            "needs_background": "light"
          }
        }
      ]
    },
    {
      "cell_type": "code",
      "metadata": {
        "id": "yZH1nNiwDZ22",
        "colab": {
          "base_uri": "https://localhost:8080/",
          "height": 295
        },
        "outputId": "52461883-30e5-4393-bb51-b65c1a8ab9d5"
      },
      "source": [
        "plt.figure(2)\n",
        "plt.plot(history.history['accuracy'])\n",
        "plt.plot(history.history['val_accuracy'])\n",
        "plt.legend(['training','validation'])\n",
        "plt.title('Accuracy Insights')\n",
        "plt.xlabel('epoch')\n",
        "plt.show()"
      ],
      "execution_count": 34,
      "outputs": [
        {
          "output_type": "display_data",
          "data": {
            "image/png": "[encoded data removed]",
            "text/plain": [
              "<Figure size 432x288 with 1 Axes>"
            ]
          },
          "metadata": {
            "tags": [],
            "needs_background": "light"
          }
        }
      ]
    },
    {
      "cell_type": "code",
      "metadata": {
        "id": "dSdtaE9VJWAf",
        "colab": {
          "base_uri": "https://localhost:8080/"
        },
        "outputId": "c4db5762-61b5-450c-b4c1-3a085954d3fe"
      },
      "source": [
        "score= model.evaluate(x_test,y_test,verbose=0)\n",
        "print('Test Score= ',score[0])\n",
        "print('Test Accuracy= ',score[1])"
      ],
      "execution_count": 35,
      "outputs": [
        {
          "output_type": "stream",
          "text": [
            "Test Score=  0.013676500879228115\n",
            "Test Accuracy=  0.9955708384513855\n"
          ],
          "name": "stdout"
        }
      ]
    },
    {
      "cell_type": "code",
      "metadata": {
        "id": "yGKdhTGJEHAw"
      },
      "source": [
        "model.save(\"model.h5\")"
      ],
      "execution_count": 36,
      "outputs": []
    },
    {
      "cell_type": "code",
      "metadata": {
        "id": "NK1c5ktjGaPR"
      },
      "source": [
        "from keras.models import load_model\n",
        "model1=load_model('model.h5')"
      ],
      "execution_count": 37,
      "outputs": []
    },
    {
      "cell_type": "markdown",
      "metadata": {
        "id": "cj6QDmyPKy_E"
      },
      "source": [
        "**Testing the Model with Webcam**"
      ]
    },
    {
      "cell_type": "code",
      "metadata": {
        "id": "3QIq986iGqeb"
      },
      "source": [
        "width = 640\n",
        "height = 480\n",
        "threshold = 0.65 # MINIMUM PROBABILITY TO CLASSIFY\n",
        "cameraNo = 1\n",
        "cap = cv2.VideoCapture(cameraNo)\n",
        "cap.set(3,width)\n",
        "cap.set(4,height)\n",
        "\n",
        "\n",
        "def preProcessing(img):\n",
        "    img = cv2.cvtColor(img,cv2.COLOR_BGR2GRAY)\n",
        "    img = cv2.equalizeHist(img)\n",
        "    img = img/255\n",
        "    return img"
      ],
      "execution_count": 38,
      "outputs": []
    },
    {
      "cell_type": "code",
      "metadata": {
        "id": "QUawo5Z1Q1e6"
      },
      "source": [
        "success, imgOriginal = cap.read()"
      ],
      "execution_count": 39,
      "outputs": []
    },
    {
      "cell_type": "code",
      "metadata": {
        "id": "JoD9yiBFLcjN",
        "colab": {
          "base_uri": "https://localhost:8080/",
          "height": 231
        },
        "outputId": "cc6a4b48-8110-4816-eabd-9ec024bcdd54"
      },
      "source": [
        "while True:\n",
        "    success, imgOriginal = cap.read()\n",
        "    img = np.asarray(imgOriginal)\n",
        "    img = cv2.resize(img,(32,32))\n",
        "    img = preProcessing(img)\n",
        "    cv2.imshow(\"Processsed Image\",img)\n",
        "    img = img.reshape(1,32,32,1)\n",
        "    #### PREDICT\n",
        "    classIndex = int(model.predict_classes(img))\n",
        "    #print(classIndex)\n",
        "    predictions = model.predict(img)\n",
        "    #print(predictions)\n",
        "    probVal= np.amax(predictions)\n",
        "    print(classIndex,probVal)\n",
        "\n",
        "    if probVal> threshold:\n",
        "        cv2.putText(imgOriginal,str(classIndex) + \"   \"+str(probVal),\n",
        "                    (50,50),cv2.FONT_HERSHEY_COMPLEX,\n",
        "                    1,(0,0,255),1)\n",
        "\n",
        "    cv2.imshow(\"Original Image\",imgOriginal)\n",
        "    if cv2.waitKey(1) & 0xFF == ord('q'):\n",
        "        break"
      ],
      "execution_count": 40,
      "outputs": [
        {
          "output_type": "error",
          "ename": "TypeError",
          "evalue": "ignored",
          "traceback": [
            "\u001b[0;31m---------------------------------------------------------------------------\u001b[0m",
            "\u001b[0;31mTypeError\u001b[0m                                 Traceback (most recent call last)",
            "\u001b[0;32m<ipython-input-40-2401b0b1c38f>\u001b[0m in \u001b[0;36m<module>\u001b[0;34m()\u001b[0m\n\u001b[1;32m      2\u001b[0m     \u001b[0msuccess\u001b[0m\u001b[0;34m,\u001b[0m \u001b[0mimgOriginal\u001b[0m \u001b[0;34m=\u001b[0m \u001b[0mcap\u001b[0m\u001b[0;34m.\u001b[0m\u001b[0mread\u001b[0m\u001b[0;34m(\u001b[0m\u001b[0;34m)\u001b[0m\u001b[0;34m\u001b[0m\u001b[0;34m\u001b[0m\u001b[0m\n\u001b[1;32m      3\u001b[0m     \u001b[0mimg\u001b[0m \u001b[0;34m=\u001b[0m \u001b[0mnp\u001b[0m\u001b[0;34m.\u001b[0m\u001b[0masarray\u001b[0m\u001b[0;34m(\u001b[0m\u001b[0mimgOriginal\u001b[0m\u001b[0;34m)\u001b[0m\u001b[0;34m\u001b[0m\u001b[0;34m\u001b[0m\u001b[0m\n\u001b[0;32m----> 4\u001b[0;31m     \u001b[0mimg\u001b[0m \u001b[0;34m=\u001b[0m \u001b[0mcv2\u001b[0m\u001b[0;34m.\u001b[0m\u001b[0mresize\u001b[0m\u001b[0;34m(\u001b[0m\u001b[0mimg\u001b[0m\u001b[0;34m,\u001b[0m\u001b[0;34m(\u001b[0m\u001b[0;36m32\u001b[0m\u001b[0;34m,\u001b[0m\u001b[0;36m32\u001b[0m\u001b[0;34m)\u001b[0m\u001b[0;34m)\u001b[0m\u001b[0;34m\u001b[0m\u001b[0;34m\u001b[0m\u001b[0m\n\u001b[0m\u001b[1;32m      5\u001b[0m     \u001b[0mimg\u001b[0m \u001b[0;34m=\u001b[0m \u001b[0mpreProcessing\u001b[0m\u001b[0;34m(\u001b[0m\u001b[0mimg\u001b[0m\u001b[0;34m)\u001b[0m\u001b[0;34m\u001b[0m\u001b[0;34m\u001b[0m\u001b[0m\n\u001b[1;32m      6\u001b[0m     \u001b[0mcv2\u001b[0m\u001b[0;34m.\u001b[0m\u001b[0mimshow\u001b[0m\u001b[0;34m(\u001b[0m\u001b[0;34m\"Processsed Image\"\u001b[0m\u001b[0;34m,\u001b[0m\u001b[0mimg\u001b[0m\u001b[0;34m)\u001b[0m\u001b[0;34m\u001b[0m\u001b[0;34m\u001b[0m\u001b[0m\n",
            "\u001b[0;31mTypeError\u001b[0m: Expected Ptr<cv::UMat> for argument '%s'"
          ]
        }
      ]
    },
    {
      "cell_type": "markdown",
      "metadata": {
        "id": "_-MBUgRRJ8Od"
      },
      "source": [
        "**Saving the trained model to pickle object**"
      ]
    },
    {
      "cell_type": "code",
      "metadata": {
        "id": "6kpTCpJjJ6j5"
      },
      "source": [
        "pickle_out= open(\"model_trained.p\", \"wb\")\n",
        "pickle.dump(model,pickle_out)\n",
        "pickle_out.close()"
      ],
      "execution_count": null,
      "outputs": []
    },
    {
      "cell_type": "code",
      "metadata": {
        "id": "5W9kUgmMJ6e9"
      },
      "source": [
        ""
      ],
      "execution_count": null,
      "outputs": []
    }
  ]
}